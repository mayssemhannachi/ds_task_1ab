{
 "cells": [
  {
   "cell_type": "code",
   "execution_count": null,
   "metadata": {},
   "outputs": [],
   "source": [
    "from sklearn.metrics.pairwise import cosine_similarity, euclidean_distances\n",
    "from sentence_transformers import SentenceTransformer\n",
    "import numpy as np\n",
    "\n",
    "model = SentenceTransformer('all-MiniLM-L6-v2')"
   ]
  },
  {
   "cell_type": "code",
   "execution_count": null,
   "metadata": {},
   "outputs": [],
   "source": [
    "def compare_similarity_metrics(vec1, vec2):\n",
    "    # Reshape vectors for sklearn functions\n",
    "    v1 = np.array(vec1).reshape(1, -1)\n",
    "    v2 = np.array(vec2).reshape(1, -1)\n",
    "    \n",
    "    # Calculate similarities using different metrics\n",
    "    cosine_sim = cosine_similarity(v1, v2)[0][0]\n",
    "    euclidean_dist = euclidean_distances(v1, v2)[0][0]\n",
    "    dot_prod = np.dot(vec1, vec2)\n",
    "    \n",
    "    print(f\"Cosine Similarity: {cosine_sim:.4f}\")\n",
    "    print(f\"Euclidean Distance: {euclidean_dist:.4f}\")\n",
    "    print(f\"Dot Product: {dot_prod:.4f}\")\n",
    "\n"
   ]
  },
  {
   "cell_type": "code",
   "execution_count": null,
   "metadata": {},
   "outputs": [],
   "source": [
    "# Example: Compare two similar products\n",
    "product1_text = \"White ceramic coffee mug for hot beverages\"\n",
    "product2_text = \"Ceramic tea cup in white color\"\n",
    "\n",
    "# Get embeddings\n",
    "vec1 = model.encode(product1_text)\n",
    "vec2 = model.encode(product2_text)\n",
    "\n",
    "print(\"Comparing similar products:\")\n",
    "compare_similarity_metrics(vec1, vec2)\n",
    "\n",
    "# Compare with a dissimilar product\n",
    "product3_text = \"Garden tools set with metal rake\"\n",
    "vec3 = model.encode(product3_text)\n",
    "\n",
    "print(\"\\nComparing dissimilar products:\")\n",
    "compare_similarity_metrics(vec1, vec3)"
   ]
  }
 ],
 "metadata": {
  "kernelspec": {
   "display_name": "venv",
   "language": "python",
   "name": "python3"
  },
  "language_info": {
   "name": "python",
   "version": "3.13.2"
  }
 },
 "nbformat": 4,
 "nbformat_minor": 2
}
